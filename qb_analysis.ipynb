{
 "cells": [
  {
   "cell_type": "markdown",
   "metadata": {},
   "source": [
    "# Fantasy Football Scoring System"
   ]
  },
  {
   "cell_type": "markdown",
   "metadata": {},
   "source": [
    "\n",
    "| Stat Category       | Point Value               |\n",
    "|---------------------|---------------------------|\n",
    "|Passing Yards\t      | 1 point for every 25 yards|\n",
    "|Passing TDs\t      | 6 points                  |\n",
    "|Passing Interceptions|\t-2 points                 |\n",
    "|Rushing Yeards       | 1 point for every 10 yards|\n",
    "|Rushing TDs          | 6 points                  |\n",
    "|Receiving Yards      | 1 point for every 10 yards|\n",
    "|Receiving TDs        | 6 points                  |\n",
    "|Fumbles Lost         | -2 points                 |\n"
   ]
  },
  {
   "cell_type": "markdown",
   "metadata": {
    "collapsed": true
   },
   "source": [
    "# QB Ratings\n",
    "\n",
    "Load the data from the from the qb_games.csv file.\n",
    "\n",
    "NOTE: Games, a count of games for the current season and career_games have been added so that you can differentiate between regular season games (the games used to calculate fantasy stats) and post season or playoff games.  Career Games are a count of how many games a player has played for their career.  It was added as a dimension to consider when measuring player growth, plateau and decline."
   ]
  },
  {
   "cell_type": "code",
   "execution_count": 21,
   "metadata": {
    "collapsed": false
   },
   "outputs": [
    {
     "data": {
      "text/plain": [
       "array(['Name', 'Year', 'Career Year', 'Game Count', 'Career Games', 'Date',\n",
       "       'Team', 'Opp', 'Result', 'Pass Att', 'Pass Cmp', 'Pass Pct',\n",
       "       'Pass Yds', 'Pass YPA', 'Pass TD', 'Pass Int', 'Pass Lg',\n",
       "       'Pass Sack', 'Pass Rate', 'Rush Att', 'Rush Yds', 'Rush Avg',\n",
       "       'Rush Lg', 'Rush TD', 'Rush FD'], dtype=object)"
      ]
     },
     "execution_count": 21,
     "metadata": {},
     "output_type": "execute_result"
    }
   ],
   "source": [
    "%matplotlib inline\n",
    "\n",
    "import pandas as pd\n",
    "import matplotlib as mp\n",
    "import numpy as np\n",
    "import matplotlib.pyplot as plt\n",
    "import matplotlib.patches as mpatches\n",
    "\n",
    "qb_games = pd.read_csv('qb_games.csv')\n",
    "qb_games.columns.values"
   ]
  },
  {
   "cell_type": "markdown",
   "metadata": {},
   "source": [
    "# Calculate Fantasy Points \n",
    "\n",
    "Calculate the fantasy points pased on the table above:\n",
    "\n",
    "(qb_games['Pass Yds']/25) + (6 * qb_games['Pass TD']) - (2 * qb_games['Pass Int']) + (qb_games['Rush Yds'] /10) + (6 * qb_games['Rush TD'])\n",
    "\n",
    "Store the data to be used for initial analysis in the  Data Frame qb_fantasy"
   ]
  },
  {
   "cell_type": "code",
   "execution_count": 31,
   "metadata": {
    "collapsed": false,
    "scrolled": true
   },
   "outputs": [
    {
     "data": {
      "text/html": [
       "<div>\n",
       "<table border=\"1\" class=\"dataframe\">\n",
       "  <thead>\n",
       "    <tr style=\"text-align: right;\">\n",
       "      <th></th>\n",
       "      <th>Name</th>\n",
       "      <th>Career Year</th>\n",
       "      <th>Year</th>\n",
       "      <th>Game Count</th>\n",
       "      <th>Career Games</th>\n",
       "      <th>Date</th>\n",
       "      <th>Pass Att</th>\n",
       "      <th>Pass Yds</th>\n",
       "      <th>Pass TD</th>\n",
       "      <th>Pass Int</th>\n",
       "      <th>Pass Rate</th>\n",
       "      <th>Rush Att</th>\n",
       "      <th>Rush Yds</th>\n",
       "      <th>Rush TD</th>\n",
       "      <th>Fantasy Points</th>\n",
       "    </tr>\n",
       "  </thead>\n",
       "  <tbody>\n",
       "    <tr>\n",
       "      <th>0</th>\n",
       "      <td>feeley, aj</td>\n",
       "      <td>1</td>\n",
       "      <td>2001</td>\n",
       "      <td>1</td>\n",
       "      <td>1</td>\n",
       "      <td>01/06/02</td>\n",
       "      <td>14</td>\n",
       "      <td>143</td>\n",
       "      <td>2</td>\n",
       "      <td>1</td>\n",
       "      <td>114.0</td>\n",
       "      <td>0</td>\n",
       "      <td>0</td>\n",
       "      <td>0</td>\n",
       "      <td>15.72</td>\n",
       "    </tr>\n",
       "    <tr>\n",
       "      <th>1</th>\n",
       "      <td>feeley, aj</td>\n",
       "      <td>2</td>\n",
       "      <td>2002</td>\n",
       "      <td>1</td>\n",
       "      <td>2</td>\n",
       "      <td>11/25/02</td>\n",
       "      <td>3</td>\n",
       "      <td>17</td>\n",
       "      <td>1</td>\n",
       "      <td>0</td>\n",
       "      <td>129.9</td>\n",
       "      <td>2</td>\n",
       "      <td>-3</td>\n",
       "      <td>0</td>\n",
       "      <td>6.38</td>\n",
       "    </tr>\n",
       "    <tr>\n",
       "      <th>2</th>\n",
       "      <td>feeley, aj</td>\n",
       "      <td>2</td>\n",
       "      <td>2002</td>\n",
       "      <td>2</td>\n",
       "      <td>3</td>\n",
       "      <td>12/01/02</td>\n",
       "      <td>30</td>\n",
       "      <td>181</td>\n",
       "      <td>0</td>\n",
       "      <td>0</td>\n",
       "      <td>66.1</td>\n",
       "      <td>2</td>\n",
       "      <td>3</td>\n",
       "      <td>0</td>\n",
       "      <td>7.54</td>\n",
       "    </tr>\n",
       "    <tr>\n",
       "      <th>3</th>\n",
       "      <td>feeley, aj</td>\n",
       "      <td>2</td>\n",
       "      <td>2002</td>\n",
       "      <td>3</td>\n",
       "      <td>4</td>\n",
       "      <td>12/08/02</td>\n",
       "      <td>35</td>\n",
       "      <td>190</td>\n",
       "      <td>2</td>\n",
       "      <td>1</td>\n",
       "      <td>81.8</td>\n",
       "      <td>3</td>\n",
       "      <td>0</td>\n",
       "      <td>0</td>\n",
       "      <td>17.60</td>\n",
       "    </tr>\n",
       "    <tr>\n",
       "      <th>4</th>\n",
       "      <td>feeley, aj</td>\n",
       "      <td>2</td>\n",
       "      <td>2002</td>\n",
       "      <td>4</td>\n",
       "      <td>5</td>\n",
       "      <td>12/15/02</td>\n",
       "      <td>28</td>\n",
       "      <td>220</td>\n",
       "      <td>2</td>\n",
       "      <td>1</td>\n",
       "      <td>91.4</td>\n",
       "      <td>2</td>\n",
       "      <td>5</td>\n",
       "      <td>0</td>\n",
       "      <td>19.30</td>\n",
       "    </tr>\n",
       "    <tr>\n",
       "      <th>5</th>\n",
       "      <td>feeley, aj</td>\n",
       "      <td>2</td>\n",
       "      <td>2002</td>\n",
       "      <td>5</td>\n",
       "      <td>6</td>\n",
       "      <td>12/21/02</td>\n",
       "      <td>33</td>\n",
       "      <td>253</td>\n",
       "      <td>1</td>\n",
       "      <td>2</td>\n",
       "      <td>66.9</td>\n",
       "      <td>2</td>\n",
       "      <td>2</td>\n",
       "      <td>0</td>\n",
       "      <td>12.32</td>\n",
       "    </tr>\n",
       "    <tr>\n",
       "      <th>6</th>\n",
       "      <td>feeley, aj</td>\n",
       "      <td>2</td>\n",
       "      <td>2002</td>\n",
       "      <td>6</td>\n",
       "      <td>7</td>\n",
       "      <td>12/28/02</td>\n",
       "      <td>25</td>\n",
       "      <td>150</td>\n",
       "      <td>0</td>\n",
       "      <td>1</td>\n",
       "      <td>53.8</td>\n",
       "      <td>1</td>\n",
       "      <td>-1</td>\n",
       "      <td>0</td>\n",
       "      <td>3.90</td>\n",
       "    </tr>\n",
       "    <tr>\n",
       "      <th>7</th>\n",
       "      <td>feeley, aj</td>\n",
       "      <td>4</td>\n",
       "      <td>2004</td>\n",
       "      <td>2</td>\n",
       "      <td>8</td>\n",
       "      <td>09/19/04</td>\n",
       "      <td>39</td>\n",
       "      <td>218</td>\n",
       "      <td>1</td>\n",
       "      <td>2</td>\n",
       "      <td>57.4</td>\n",
       "      <td>0</td>\n",
       "      <td>0</td>\n",
       "      <td>0</td>\n",
       "      <td>10.72</td>\n",
       "    </tr>\n",
       "    <tr>\n",
       "      <th>8</th>\n",
       "      <td>feeley, aj</td>\n",
       "      <td>4</td>\n",
       "      <td>2004</td>\n",
       "      <td>3</td>\n",
       "      <td>9</td>\n",
       "      <td>09/26/04</td>\n",
       "      <td>27</td>\n",
       "      <td>137</td>\n",
       "      <td>0</td>\n",
       "      <td>2</td>\n",
       "      <td>32.5</td>\n",
       "      <td>0</td>\n",
       "      <td>0</td>\n",
       "      <td>0</td>\n",
       "      <td>1.48</td>\n",
       "    </tr>\n",
       "    <tr>\n",
       "      <th>9</th>\n",
       "      <td>feeley, aj</td>\n",
       "      <td>4</td>\n",
       "      <td>2004</td>\n",
       "      <td>4</td>\n",
       "      <td>10</td>\n",
       "      <td>10/10/04</td>\n",
       "      <td>2</td>\n",
       "      <td>6</td>\n",
       "      <td>0</td>\n",
       "      <td>0</td>\n",
       "      <td>56.3</td>\n",
       "      <td>0</td>\n",
       "      <td>0</td>\n",
       "      <td>0</td>\n",
       "      <td>0.24</td>\n",
       "    </tr>\n",
       "  </tbody>\n",
       "</table>\n",
       "</div>"
      ],
      "text/plain": [
       "         Name  Career Year  Year  Game Count  Career Games      Date  \\\n",
       "0  feeley, aj            1  2001           1             1  01/06/02   \n",
       "1  feeley, aj            2  2002           1             2  11/25/02   \n",
       "2  feeley, aj            2  2002           2             3  12/01/02   \n",
       "3  feeley, aj            2  2002           3             4  12/08/02   \n",
       "4  feeley, aj            2  2002           4             5  12/15/02   \n",
       "5  feeley, aj            2  2002           5             6  12/21/02   \n",
       "6  feeley, aj            2  2002           6             7  12/28/02   \n",
       "7  feeley, aj            4  2004           2             8  09/19/04   \n",
       "8  feeley, aj            4  2004           3             9  09/26/04   \n",
       "9  feeley, aj            4  2004           4            10  10/10/04   \n",
       "\n",
       "   Pass Att  Pass Yds  Pass TD  Pass Int  Pass Rate  Rush Att  Rush Yds  \\\n",
       "0        14       143        2         1      114.0         0         0   \n",
       "1         3        17        1         0      129.9         2        -3   \n",
       "2        30       181        0         0       66.1         2         3   \n",
       "3        35       190        2         1       81.8         3         0   \n",
       "4        28       220        2         1       91.4         2         5   \n",
       "5        33       253        1         2       66.9         2         2   \n",
       "6        25       150        0         1       53.8         1        -1   \n",
       "7        39       218        1         2       57.4         0         0   \n",
       "8        27       137        0         2       32.5         0         0   \n",
       "9         2         6        0         0       56.3         0         0   \n",
       "\n",
       "   Rush TD  Fantasy Points  \n",
       "0        0           15.72  \n",
       "1        0            6.38  \n",
       "2        0            7.54  \n",
       "3        0           17.60  \n",
       "4        0           19.30  \n",
       "5        0           12.32  \n",
       "6        0            3.90  \n",
       "7        0           10.72  \n",
       "8        0            1.48  \n",
       "9        0            0.24  "
      ]
     },
     "execution_count": 31,
     "metadata": {},
     "output_type": "execute_result"
    }
   ],
   "source": [
    "qb_games['Fantasy Points'] = (qb_games['Pass Yds']/25) + (6 * qb_games['Pass TD']) - (2 * qb_games['Pass Int']) + (qb_games['Rush Yds'] /10) + (6 * qb_games['Rush TD'])\n",
    "qb_fantasy = qb_games[['Name','Career Year', 'Year', 'Game Count', 'Career Games', 'Date', 'Pass Att', 'Pass Yds', 'Pass TD', 'Pass Int', 'Pass Rate', 'Rush Att', 'Rush Yds', 'Rush TD', 'Fantasy Points']]\n",
    "\n",
    "qb_fantasy.head(10)"
   ]
  },
  {
   "cell_type": "markdown",
   "metadata": {},
   "source": [
    "# Get the average QB fantasy points by year"
   ]
  },
  {
   "cell_type": "code",
   "execution_count": 32,
   "metadata": {
    "collapsed": false,
    "scrolled": false
   },
   "outputs": [
    {
     "name": "stdout",
     "output_type": "stream",
     "text": [
      "5799\n"
     ]
    },
    {
     "data": {
      "text/html": [
       "<div>\n",
       "<table border=\"1\" class=\"dataframe\">\n",
       "  <thead>\n",
       "    <tr style=\"text-align: right;\">\n",
       "      <th></th>\n",
       "      <th>Career Year</th>\n",
       "      <th>Pass Att</th>\n",
       "      <th>Pass Rate</th>\n",
       "      <th>Fantasy Points</th>\n",
       "    </tr>\n",
       "  </thead>\n",
       "  <tbody>\n",
       "    <tr>\n",
       "      <th>0</th>\n",
       "      <td>1</td>\n",
       "      <td>23.353511</td>\n",
       "      <td>68.959564</td>\n",
       "      <td>10.270460</td>\n",
       "    </tr>\n",
       "    <tr>\n",
       "      <th>1</th>\n",
       "      <td>2</td>\n",
       "      <td>26.140893</td>\n",
       "      <td>75.194330</td>\n",
       "      <td>13.007491</td>\n",
       "    </tr>\n",
       "    <tr>\n",
       "      <th>2</th>\n",
       "      <td>3</td>\n",
       "      <td>28.034036</td>\n",
       "      <td>77.260940</td>\n",
       "      <td>14.057342</td>\n",
       "    </tr>\n",
       "    <tr>\n",
       "      <th>3</th>\n",
       "      <td>4</td>\n",
       "      <td>28.614458</td>\n",
       "      <td>78.421536</td>\n",
       "      <td>14.473705</td>\n",
       "    </tr>\n",
       "    <tr>\n",
       "      <th>4</th>\n",
       "      <td>5</td>\n",
       "      <td>29.460102</td>\n",
       "      <td>83.620374</td>\n",
       "      <td>15.861868</td>\n",
       "    </tr>\n",
       "    <tr>\n",
       "      <th>5</th>\n",
       "      <td>6</td>\n",
       "      <td>30.707317</td>\n",
       "      <td>85.348943</td>\n",
       "      <td>16.426211</td>\n",
       "    </tr>\n",
       "    <tr>\n",
       "      <th>6</th>\n",
       "      <td>7</td>\n",
       "      <td>29.317647</td>\n",
       "      <td>84.520706</td>\n",
       "      <td>15.876847</td>\n",
       "    </tr>\n",
       "    <tr>\n",
       "      <th>7</th>\n",
       "      <td>8</td>\n",
       "      <td>31.405759</td>\n",
       "      <td>87.371990</td>\n",
       "      <td>17.356963</td>\n",
       "    </tr>\n",
       "    <tr>\n",
       "      <th>8</th>\n",
       "      <td>9</td>\n",
       "      <td>31.891176</td>\n",
       "      <td>86.966765</td>\n",
       "      <td>16.937000</td>\n",
       "    </tr>\n",
       "    <tr>\n",
       "      <th>9</th>\n",
       "      <td>10</td>\n",
       "      <td>31.849673</td>\n",
       "      <td>87.046732</td>\n",
       "      <td>17.006797</td>\n",
       "    </tr>\n",
       "    <tr>\n",
       "      <th>10</th>\n",
       "      <td>11</td>\n",
       "      <td>32.149635</td>\n",
       "      <td>88.262774</td>\n",
       "      <td>18.360219</td>\n",
       "    </tr>\n",
       "    <tr>\n",
       "      <th>11</th>\n",
       "      <td>12</td>\n",
       "      <td>33.445887</td>\n",
       "      <td>85.751082</td>\n",
       "      <td>18.314459</td>\n",
       "    </tr>\n",
       "    <tr>\n",
       "      <th>12</th>\n",
       "      <td>13</td>\n",
       "      <td>33.018987</td>\n",
       "      <td>87.408861</td>\n",
       "      <td>17.637089</td>\n",
       "    </tr>\n",
       "    <tr>\n",
       "      <th>13</th>\n",
       "      <td>14</td>\n",
       "      <td>33.064935</td>\n",
       "      <td>85.324675</td>\n",
       "      <td>16.164156</td>\n",
       "    </tr>\n",
       "    <tr>\n",
       "      <th>14</th>\n",
       "      <td>15</td>\n",
       "      <td>33.659574</td>\n",
       "      <td>87.444681</td>\n",
       "      <td>19.061277</td>\n",
       "    </tr>\n",
       "    <tr>\n",
       "      <th>15</th>\n",
       "      <td>16</td>\n",
       "      <td>33.596154</td>\n",
       "      <td>88.771154</td>\n",
       "      <td>20.075769</td>\n",
       "    </tr>\n",
       "    <tr>\n",
       "      <th>16</th>\n",
       "      <td>17</td>\n",
       "      <td>32.192308</td>\n",
       "      <td>94.700000</td>\n",
       "      <td>18.506154</td>\n",
       "    </tr>\n",
       "    <tr>\n",
       "      <th>17</th>\n",
       "      <td>18</td>\n",
       "      <td>3.000000</td>\n",
       "      <td>67.400000</td>\n",
       "      <td>1.080000</td>\n",
       "    </tr>\n",
       "  </tbody>\n",
       "</table>\n",
       "</div>"
      ],
      "text/plain": [
       "    Career Year   Pass Att  Pass Rate  Fantasy Points\n",
       "0             1  23.353511  68.959564       10.270460\n",
       "1             2  26.140893  75.194330       13.007491\n",
       "2             3  28.034036  77.260940       14.057342\n",
       "3             4  28.614458  78.421536       14.473705\n",
       "4             5  29.460102  83.620374       15.861868\n",
       "5             6  30.707317  85.348943       16.426211\n",
       "6             7  29.317647  84.520706       15.876847\n",
       "7             8  31.405759  87.371990       17.356963\n",
       "8             9  31.891176  86.966765       16.937000\n",
       "9            10  31.849673  87.046732       17.006797\n",
       "10           11  32.149635  88.262774       18.360219\n",
       "11           12  33.445887  85.751082       18.314459\n",
       "12           13  33.018987  87.408861       17.637089\n",
       "13           14  33.064935  85.324675       16.164156\n",
       "14           15  33.659574  87.444681       19.061277\n",
       "15           16  33.596154  88.771154       20.075769\n",
       "16           17  32.192308  94.700000       18.506154\n",
       "17           18   3.000000  67.400000        1.080000"
      ]
     },
     "execution_count": 32,
     "metadata": {},
     "output_type": "execute_result"
    }
   ],
   "source": [
    "import numpy as np\n",
    "import matplotlib.pyplot as plt\n",
    "import seaborn as sns\n",
    "\n",
    "print(len(qb_fantasy))\n",
    "yearly_fantasy_points = qb_fantasy.groupby(['Career Year'], as_index=False).mean()\n",
    "yearly_fantasy_points[['Career Year', 'Pass Att', 'Pass Rate', 'Fantasy Points']]\n",
    "\n"
   ]
  },
  {
   "cell_type": "code",
   "execution_count": 26,
   "metadata": {
    "collapsed": false
   },
   "outputs": [
    {
     "data": {
      "image/png": "[encoded data removed]",
      "text/plain": [
       "<matplotlib.figure.Figure at 0x1176549b0>"
      ]
     },
     "metadata": {},
     "output_type": "display_data"
    }
   ],
   "source": [
    "color = ['red']\n",
    "ax = sns.barplot(yearly_fantasy_points['Career Year'], (yearly_fantasy_points['Fantasy Points'] ), palette=color)"
   ]
  },
  {
   "cell_type": "markdown",
   "metadata": {},
   "source": [
    "## Observation\n",
    "\n",
    "You can trace a sharp improvement in performance over years 1-6 where the fantasy total points increase from a yearly average of 10 to over 15 points.  There is then a plateau through seasons 7 through 14, and a slight uptick at seasons 15-17, but the averages do not break above 20 points on average."
   ]
  },
  {
   "cell_type": "code",
   "execution_count": 28,
   "metadata": {
    "collapsed": false
   },
   "outputs": [
    {
     "data": {
      "image/png": "[encoded data removed]",
      "text/plain": [
       "<matplotlib.figure.Figure at 0x1184e37f0>"
      ]
     },
     "metadata": {},
     "output_type": "display_data"
    }
   ],
   "source": [
    "color = ['blue']\n",
    "ax = sns.barplot(yearly_fantasy_points['Career Year'], (yearly_fantasy_points['Pass Att'] ), palette=color)\n"
   ]
  },
  {
   "cell_type": "markdown",
   "metadata": {},
   "source": [
    "## Observation\n",
    "The average passes attempted also match the growth in fantasy points in terms of having their \n",
    "sharpest increases in years 1-6, and generally plateauing after that.  One difference is that there really is no general increase in passes attempted years 15-17. "
   ]
  },
  {
   "cell_type": "code",
   "execution_count": 34,
   "metadata": {
    "collapsed": false
   },
   "outputs": [
    {
     "data": {
      "image/png": "[encoded data removed]",
      "text/plain": [
       "<matplotlib.figure.Figure at 0x109a02e80>"
      ]
     },
     "metadata": {},
     "output_type": "display_data"
    }
   ],
   "source": [
    "color = ['green']\n",
    "ax = sns.barplot(yearly_fantasy_points['Career Year'], (yearly_fantasy_points['Pass Rate'] ), palette=color)"
   ]
  },
  {
   "cell_type": "markdown",
   "metadata": {},
   "source": [
    "## Observation\n",
    "The Passer Rating for QB's shows the same type of improvement for years 1-6 and the same plateau for every year after that.  "
   ]
  },
  {
   "cell_type": "markdown",
   "metadata": {},
   "source": [
    "# Career Means for Key Statistics\n",
    "Calculate the career means for each of the statistics charted above and use them as filters for evaluating players above and below the mean.\n"
   ]
  },
  {
   "cell_type": "code",
   "execution_count": 36,
   "metadata": {
    "collapsed": false
   },
   "outputs": [
    {
     "data": {
      "text/plain": [
       "Pass Att          29.471633\n",
       "Pass Rate         81.886256\n",
       "Fantasy Points    15.450271\n",
       "dtype: float64"
      ]
     },
     "execution_count": 36,
     "metadata": {},
     "output_type": "execute_result"
    }
   ],
   "source": [
    "qb_means = qb_fantasy[['Pass Att', 'Pass Rate', 'Fantasy Points']].mean()\n",
    "qb_means"
   ]
  },
  {
   "cell_type": "code",
   "execution_count": 120,
   "metadata": {
    "collapsed": false,
    "scrolled": true
   },
   "outputs": [
    {
     "name": "stdout",
     "output_type": "stream",
     "text": [
      "Shifting data to only include pass attempts when greater than 29 average pass attempts\n"
     ]
    },
    {
     "data": {
      "image/png": "[encoded data removed]",
      "text/plain": [
       "<matplotlib.figure.Figure at 0x1187b52b0>"
      ]
     },
     "metadata": {},
     "output_type": "display_data"
    }
   ],
   "source": [
    "pass_att = qb_means['Pass Att']\n",
    "qb_upper_pass_att = qb_fantasy.loc[qb_fantasy['Pass Att'] > pass_att]\n",
    "qb_pass_att_mean = qb_upper_pass_att['Pass Att'].mean()\n",
    "print('Shifting data to only include pass attempts when greater than %d average pass attempts' %(pass_att))\n",
    "qb_att = qb_upper_pass_att.groupby(['Career Year'], as_index=False).mean()\n",
    "\n",
    "color = ['blue']\n",
    "ax = sns.barplot(qb_att['Career Year'], (qb_att['Pass Att'] ), palette=color)\n"
   ]
  },
  {
   "cell_type": "markdown",
   "metadata": {},
   "source": [
    "## Observation\n",
    "Shifting the data set to only include data for pass attempts above 29 does not greatly change the overall data."
   ]
  },
  {
   "cell_type": "code",
   "execution_count": 124,
   "metadata": {
    "collapsed": false
   },
   "outputs": [
    {
     "name": "stdout",
     "output_type": "stream",
     "text": [
      "Shifting data to only include pass attempts when greater than 81 average pass attempts\n"
     ]
    },
    {
     "data": {
      "image/png": "[encoded data removed]",
      "text/plain": [
       "<matplotlib.figure.Figure at 0x117ffe5c0>"
      ]
     },
     "metadata": {},
     "output_type": "display_data"
    }
   ],
   "source": [
    "pass_rate = qb_means['Pass Rate']\n",
    "qb_upper_pass_rate = qb_fantasy.loc[qb_fantasy['Pass Rate'] > pass_rate]\n",
    "qb_pass_rate_mean = qb_upper_pass_rate['Pass Rate'].mean()\n",
    "print('Shifting data to only include pass attempts when greater than %d average pass attempts' %(pass_rate))\n",
    "qb_rate = qb_upper_pass_rate.groupby(['Career Year'], as_index=False).mean()\n",
    "\n",
    "color = ['green']\n",
    "ax = sns.barplot(qb_rate['Career Year'], (qb_rate['Pass Rate'] ), palette=color)\n",
    "\n"
   ]
  },
  {
   "cell_type": "code",
   "execution_count": 126,
   "metadata": {
    "collapsed": false
   },
   "outputs": [
    {
     "name": "stdout",
     "output_type": "stream",
     "text": [
      "71\n",
      "21.49234616650209\n"
     ]
    },
    {
     "data": {
      "image/png": "[encoded data removed]",
      "text/plain": [
       "<matplotlib.figure.Figure at 0x1188a4198>"
      ]
     },
     "metadata": {},
     "output_type": "display_data"
    }
   ],
   "source": [
    "qb_upper_fantasy_rate = qb_fantasy.loc[qb_fantasy['Pass Rate'] > pass_rate]\n",
    "qb_name = qb_upper_fantasy_rate.groupby(['Name'], as_index=False)\n",
    "print(len(qb_name))\n",
    "qb_fantasy_rate_mean = qb_upper_fantasy_rate['Fantasy Points'].mean()\n",
    "print(qb_fantasy_rate_mean)\n",
    "qb_rate = qb_upper_fantasy_rate.groupby(['Career Year'], as_index=False).mean()\n",
    "\n",
    "color = ['red']\n",
    "ax = sns.barplot(qb_rate['Career Year'], (qb_rate['Fantasy Points'] ), palette=color)\n"
   ]
  },
  {
   "cell_type": "code",
   "execution_count": 91,
   "metadata": {
    "collapsed": false
   },
   "outputs": [
    {
     "name": "stdout",
     "output_type": "stream",
     "text": [
      "21.4923461665\n"
     ]
    },
    {
     "data": {
      "image/png": "[encoded data removed]",
      "text/plain": [
       "<matplotlib.figure.Figure at 0x117f933c8>"
      ]
     },
     "metadata": {},
     "output_type": "display_data"
    }
   ],
   "source": [
    "qb_upper_pass_rate = qb_fantasy.loc[qb_fantasy['Pass Rate'] > pass_rate]\n",
    "qb_fantasy_rate = qb_upper_pass_rate.mean()\n",
    "print(qb_fantasy_rate['Fantasy Points'])\n",
    "qb_rate = qb_upper_pass_rate.groupby(['Career Year'], as_index=False).mean()\n",
    "\n",
    "color = ['green']\n",
    "ax = sns.barplot(qb_rate['Career Year'], (qb_rate['Fantasy Points'] ), palette=color)"
   ]
  }
 ],
 "metadata": {
  "anaconda-cloud": {},
  "kernelspec": {
   "display_name": "Python [Root]",
   "language": "python",
   "name": "Python [Root]"
  },
  "language_info": {
   "codemirror_mode": {
    "name": "ipython",
    "version": 3
   },
   "file_extension": ".py",
   "mimetype": "text/x-python",
   "name": "python",
   "nbconvert_exporter": "python",
   "pygments_lexer": "ipython3",
   "version": "3.5.2"
  }
 },
 "nbformat": 4,
 "nbformat_minor": 0
}
